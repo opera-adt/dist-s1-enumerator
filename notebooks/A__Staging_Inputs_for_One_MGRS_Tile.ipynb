{
 "cells": [
  {
   "cell_type": "code",
   "execution_count": 1,
   "id": "7c7b0067-7456-4d10-a36a-13f9f89bfd11",
   "metadata": {},
   "outputs": [],
   "source": [
    "%load_ext autoreload\n",
    "%autoreload 2"
   ]
  },
  {
   "cell_type": "code",
   "execution_count": 2,
   "id": "bafeb594-48a9-437c-a067-5ed026655202",
   "metadata": {},
   "outputs": [],
   "source": [
    "from dist_s1_enumerator.dist_enum import enumerate_one_dist_s1_product\n",
    "from dist_s1_enumerator.asf import get_rtc_s1_ts_metadata_from_mgrs_tiles\n",
    "from shapely.geometry import Point\n",
    "from datetime import datetime, timedelta\n",
    "import geopandas as gpd\n",
    "from rasterio.crs import CRS\n",
    "import matplotlib.pyplot as plt\n",
    "import contextily as ctx\n",
    "import pandas as pd\n",
    "from pathlib import Path"
   ]
  },
  {
   "cell_type": "markdown",
   "id": "bb2dbae9-17bb-49f5-8dbd-e0fba9071d46",
   "metadata": {},
   "source": [
    "# Provide AOI"
   ]
  },
  {
   "cell_type": "code",
   "execution_count": 3,
   "id": "be088df4-01a9-473f-807f-00305a94cbd0",
   "metadata": {},
   "outputs": [],
   "source": [
    "# Over Los Padres National Forest, CA\n",
    "point = Point(-120.0048, 34.8923)\n",
    "df_aoi = gpd.GeoDataFrame(geometry=[point], crs=CRS.from_epsg(4326))"
   ]
  },
  {
   "cell_type": "markdown",
   "id": "a7c0be9b-6153-413c-a029-e141cc855e52",
   "metadata": {},
   "source": [
    "# Get Overlapping Tiles\n",
    "\n",
    "Can be point or polygon."
   ]
  },
  {
   "cell_type": "code",
   "execution_count": 4,
   "id": "211a3c22-c794-4aea-97ce-f37d4bc02410",
   "metadata": {},
   "outputs": [
    {
     "ename": "NameError",
     "evalue": "name 'get_mgrs_tiles_overlapping_geometry' is not defined",
     "output_type": "error",
     "traceback": [
      "\u001b[0;31m---------------------------------------------------------------------------\u001b[0m",
      "\u001b[0;31mNameError\u001b[0m                                 Traceback (most recent call last)",
      "Cell \u001b[0;32mIn[4], line 1\u001b[0m\n\u001b[0;32m----> 1\u001b[0m df_mgrs_tiles \u001b[38;5;241m=\u001b[39m \u001b[43mget_mgrs_tiles_overlapping_geometry\u001b[49m(point)\n",
      "\u001b[0;31mNameError\u001b[0m: name 'get_mgrs_tiles_overlapping_geometry' is not defined"
     ]
    }
   ],
   "source": [
    "df_mgrs_tiles = get_mgrs_tiles_overlapping_geometry(point)"
   ]
  },
  {
   "cell_type": "markdown",
   "id": "33e79d31-e002-413e-bade-3a4ec40fddf6",
   "metadata": {},
   "source": [
    "## Visualize Overlapping Tiles and AOI"
   ]
  },
  {
   "cell_type": "code",
   "execution_count": null,
   "id": "1cd6e8f1-8765-4476-86f9-38fae3eed5b9",
   "metadata": {},
   "outputs": [],
   "source": [
    "fig, ax = plt.subplots()\n",
    "df_mgrs_tiles_plot = df_mgrs_tiles.copy()\n",
    "df_mgrs_tiles_plot.geometry = df_mgrs_tiles_plot.geometry.boundary\n",
    "df_mgrs_tiles_plot.plot(column='mgrs_tile_id', categorical=True, legend=True, ax=ax)\n",
    "df_aoi.plot(ax=ax)\n",
    "ctx.add_basemap(ax,\n",
    "                crs=df_mgrs_tiles.crs.to_string(),\n",
    "                source=ctx.providers.CartoDB.Voyager\n",
    "                )"
   ]
  },
  {
   "cell_type": "markdown",
   "id": "7fa99ef0-4648-4329-9e4c-0821ed4e0cfd",
   "metadata": {},
   "source": [
    "# Visualize Overlapping Passes"
   ]
  },
  {
   "cell_type": "code",
   "execution_count": null,
   "id": "71bc3dc9-99ac-467d-940f-76fdad4ccb5f",
   "metadata": {},
   "outputs": [],
   "source": [
    "MGRS_TILE = '10SGD'"
   ]
  },
  {
   "cell_type": "code",
   "execution_count": null,
   "id": "e9327676-1747-4009-b8df-48d03fab8caf",
   "metadata": {},
   "outputs": [],
   "source": [
    "df_mgrs_burst_luts = get_lut_by_mgrs_tile_ids([MGRS_TILE])\n",
    "df_mgrs_burst_luts.head()"
   ]
  },
  {
   "cell_type": "code",
   "execution_count": null,
   "id": "fed20416-4061-4c0f-9352-02f2f487feb2",
   "metadata": {},
   "outputs": [],
   "source": [
    "df_bursts = get_burst_table_from_mgrs_tiles([MGRS_TILE])\n",
    "df_bursts.head()"
   ]
  },
  {
   "cell_type": "code",
   "execution_count": null,
   "id": "93fdd04c-c8e3-4464-ba26-aa72ee957120",
   "metadata": {},
   "outputs": [],
   "source": [
    "fig, ax = plt.subplots()\n",
    "df_mgrs_tiles_plot = df_mgrs_tiles.copy()\n",
    "df_mgrs_tiles_plot.plot(column='mgrs_tile_id', categorical=True, ax=ax, alpha=.2)\n",
    "df_aoi.plot(ax=ax)\n",
    "df_bursts_plot = df_bursts.copy()\n",
    "df_bursts_plot.geometry = df_bursts_plot.geometry.boundary\n",
    "df_bursts_plot.plot(column='track_number', categorical=True, ax=ax, legend=True)\n",
    "leg = ax.get_legend()\n",
    "leg.set_title('Track Numbers')\n",
    "ctx.add_basemap(ax,\n",
    "                crs=df_mgrs_tiles.crs.to_string(),\n",
    "                source=ctx.providers.CartoDB.Voyager\n",
    "                )"
   ]
  },
  {
   "cell_type": "markdown",
   "id": "5b1429b9-fc0a-43a1-8954-d27e2e0805b5",
   "metadata": {},
   "source": [
    "## Visualize specific group"
   ]
  },
  {
   "cell_type": "code",
   "execution_count": null,
   "id": "a93857b8-658c-4ae7-a1c7-e08d851a21af",
   "metadata": {},
   "outputs": [],
   "source": [
    "TRACK_NUMBER = 137\n",
    "\n",
    "fig, ax = plt.subplots()\n",
    "df_mgrs_tiles_plot = df_mgrs_tiles.copy()\n",
    "df_mgrs_tiles_plot.plot(column='mgrs_tile_id', categorical=True, ax=ax, alpha=.2)\n",
    "df_aoi.plot(ax=ax)\n",
    "df_bursts_plot = df_bursts.copy()\n",
    "df_bursts_plot.geometry = df_bursts_plot.geometry.boundary\n",
    "df_bursts_plot = df_bursts_plot[df_bursts_plot.track_number == TRACK_NUMBER].reset_index(drop=True)\n",
    "df_bursts_plot.plot(column='track_number', categorical=True, ax=ax, legend=True)\n",
    "leg = ax.get_legend()\n",
    "leg.set_title('Track Numbers')\n",
    "ctx.add_basemap(ax,\n",
    "                crs=df_mgrs_tiles.crs.to_string(),\n",
    "                source=ctx.providers.CartoDB.Voyager\n",
    "                )"
   ]
  },
  {
   "cell_type": "markdown",
   "id": "0734fdf8-593a-4f76-945c-36af067ff789",
   "metadata": {},
   "source": [
    "# Get Candidate Post-Image set of RTC-S1 Data (Post-images)\n",
    "\n",
    "Inspect possible set of post-images in the last 30 days."
   ]
  },
  {
   "cell_type": "code",
   "execution_count": null,
   "id": "38c9bb68-8806-4d22-97fb-f3cdf4154862",
   "metadata": {},
   "outputs": [],
   "source": [
    "today = datetime.today()\n",
    "df_rtc_post_possible = get_rtc_s1_ts_metadata_from_mgrs_tiles([MGRS_TILE], \n",
    "                                                     track_numbers=[TRACK_NUMBER],\n",
    "                                                     start_acq_dt= today, \n",
    "                                                     stop_acq_dt= today - timedelta(days=30))\n",
    "df_rtc_post_possible.head()"
   ]
  },
  {
   "cell_type": "code",
   "execution_count": null,
   "id": "14f0ffae-38a0-47bf-b5bc-8cf862834016",
   "metadata": {},
   "outputs": [],
   "source": [
    "\n",
    "fig, ax = plt.subplots()\n",
    "df_mgrs_tiles_plot = df_mgrs_tiles.copy()\n",
    "df_mgrs_tiles_plot.plot(column='mgrs_tile_id', categorical=True, ax=ax, alpha=.2)\n",
    "df_aoi.plot(ax=ax)\n",
    "df_rtc_plot = df_rtc_post_possible.copy()\n",
    "df_rtc_plot.geometry = df_rtc_plot.geometry.boundary\n",
    "df_rtc_plot.plot(column='acq_date_for_mgrs_pass', categorical=True, ax=ax, legend=True)\n",
    "ctx.add_basemap(ax,\n",
    "                crs=df_mgrs_tiles.crs.to_string(),\n",
    "                source=ctx.providers.CartoDB.Voyager\n",
    "                )"
   ]
  },
  {
   "cell_type": "markdown",
   "id": "83860443-8ebd-4aa4-9c0d-7a6c638de5ca",
   "metadata": {},
   "source": [
    "## Few minor notes\n",
    "1. The geometries from our burst table differ from those collected from the DAAC (note the overlap)\n",
    "2. In some cases, the burst ids collected from the latest pass will equal the total fixed bursts requests. In some cases, the actual data from the latest pass will be *less* than the requested bursts. This is due to S1 availability."
   ]
  },
  {
   "cell_type": "markdown",
   "id": "c9544433-0945-4140-be61-1333eef9a7c9",
   "metadata": {},
   "source": [
    "# Get inputs for 1 product"
   ]
  },
  {
   "cell_type": "code",
   "execution_count": null,
   "id": "b89d56dc-9919-40b5-bb86-4a2466e4a07a",
   "metadata": {},
   "outputs": [],
   "source": [
    "post_date"
   ]
  },
  {
   "cell_type": "code",
   "execution_count": null,
   "id": "ae200ffd-0cf2-4c0c-bfe5-8c0f6b960a23",
   "metadata": {},
   "outputs": [],
   "source": [
    "# most recent pass\n",
    "post_date = df_rtc_post_possible.acq_dt.dt.date.max()\n",
    "df_product = enumerate_one_dist_s1_product(MGRS_TILE, \n",
    "                                             track_number=TRACK_NUMBER,\n",
    "                                             post_date=post_date,\n",
    "                                             post_date_buffer_days=1\n",
    "                                           )\n",
    "df_product.head()"
   ]
  },
  {
   "cell_type": "markdown",
   "id": "bf627b80-5bc0-41ea-96c0-b64929cf3206",
   "metadata": {},
   "source": [
    "# Localizing Inputs"
   ]
  },
  {
   "cell_type": "code",
   "execution_count": null,
   "id": "af4cdcfb-6392-48b2-94c5-04c95a491a05",
   "metadata": {},
   "outputs": [],
   "source": [
    "from dist_s1_enumerator.rtc_s1_io import localize_rtc_s1_ts"
   ]
  },
  {
   "cell_type": "code",
   "execution_count": null,
   "id": "6dc1dd1f-d97e-4a2f-83df-6dd7b1566a30",
   "metadata": {},
   "outputs": [],
   "source": [
    "out_dir = Path('out')\n",
    "out_dir.mkdir(exist_ok=True, parents=True)"
   ]
  },
  {
   "cell_type": "code",
   "execution_count": null,
   "id": "811b0588-f95f-45a6-9ba8-19e30eb7ec50",
   "metadata": {},
   "outputs": [],
   "source": [
    "df_product_loc = localize_rtc_s1_ts(df_product, out_dir, max_workers=5)"
   ]
  },
  {
   "cell_type": "code",
   "execution_count": null,
   "id": "80ef612b-807d-471e-98e6-0fbd061ea0f0",
   "metadata": {},
   "outputs": [],
   "source": [
    "track_token = df_product_loc.track_token.iloc[0]\n",
    "mgrs_tile_id = df_product_loc.mgrs_tile_id.iloc[0]\n",
    "date_token = df_product_loc.acq_date_for_mgrs_pass.iloc[0]\n",
    "\n",
    "df_product_loc.to_parquet(f'{mgrs_tile_id}__{track_token}__{date_token}_dist_s1_inputs.parquet')"
   ]
  }
 ],
 "metadata": {
  "kernelspec": {
   "display_name": "dist-s1-enumerator",
   "language": "python",
   "name": "dist-s1-enumerator"
  },
  "language_info": {
   "codemirror_mode": {
    "name": "ipython",
    "version": 3
   },
   "file_extension": ".py",
   "mimetype": "text/x-python",
   "name": "python",
   "nbconvert_exporter": "python",
   "pygments_lexer": "ipython3",
   "version": "3.12.8"
  }
 },
 "nbformat": 4,
 "nbformat_minor": 5
}
