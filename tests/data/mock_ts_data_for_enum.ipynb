{
 "cells": [
  {
   "cell_type": "markdown",
   "id": "c13ca255-864d-443d-9ed8-50314d120f65",
   "metadata": {},
   "source": [
    "Generates data for tests in `test_dist_enum`."
   ]
  },
  {
   "cell_type": "code",
   "execution_count": 1,
   "id": "c68bab62-b801-4212-a75e-11929e73a3f5",
   "metadata": {},
   "outputs": [],
   "source": [
    "%load_ext autoreload\n",
    "%autoreload 2"
   ]
  },
  {
   "cell_type": "markdown",
   "id": "7e93d3d8-873b-42a6-baf4-9574231a82df",
   "metadata": {},
   "source": [
    "The test that compares two different ways of enumerating products in `tests/test_dist_enum.py`."
   ]
  },
  {
   "cell_type": "code",
   "execution_count": 2,
   "id": "253080b6-8225-4c18-9129-181cb3106c55",
   "metadata": {},
   "outputs": [],
   "source": [
    "from pathlib import Path\n",
    "\n",
    "import asf_search as asf\n",
    "import contextily as ctx\n",
    "import geopandas as gpd\n",
    "import matplotlib.pyplot as plt\n",
    "import pandas as pd\n",
    "from pandas.testing import assert_frame_equal\n",
    "from rasterio.crs import CRS\n",
    "from shapely.geometry import Point\n",
    "from tqdm import tqdm\n",
    "\n",
    "from dist_s1_enumerator.mgrs_burst_data import (\n",
    "    get_burst_ids_in_mgrs_tiles,\n",
    "    get_burst_table,\n",
    "    get_burst_table_from_mgrs_tiles,\n",
    "    get_mgrs_tile_table_by_ids,\n",
    "    get_mgrs_tiles_overlapping_geometry,\n",
    ")"
   ]
  },
  {
   "cell_type": "code",
   "execution_count": 3,
   "id": "376ca0a6-107f-46a5-a0a3-605997843d0f",
   "metadata": {},
   "outputs": [
    {
     "data": {
      "text/plain": [
       "{'geo': <POINT (49.75 0)>, 'mgrs_tile': ['22NFF'], 'track_numbers': None}"
      ]
     },
     "execution_count": 3,
     "metadata": {},
     "output_type": "execute_result"
    }
   ],
   "source": [
    "SITE = \"ilha_mexiana\"  # 'los_angeles', 'greenland', 'wax_lake'\n",
    "\n",
    "CONFIG = {\n",
    "    \"wax_lake\": {\n",
    "        \"geo\": Point(-91.45, 29.5),\n",
    "        \"mgrs_tile_ids\": [\"15RXN\"],\n",
    "        \"track_numbers\": [63],\n",
    "    },\n",
    "    \"los_angeles\": {\n",
    "        \"geo\": Point(-118, 34).buffer(0.25),\n",
    "        \"mgrs_tile_ids\": [\"11SLT\", \"11SLU\", \"11SMT\"],\n",
    "        \"track_numbers\": None,\n",
    "    },\n",
    "    \"greenland\": {\n",
    "        \"geo\": Point(-46, 71),\n",
    "        \"mgrs_tile_ids\": [\"22WFD\"],\n",
    "        \"track_numbers\": None,\n",
    "    },\n",
    "    \"aleuatian_antimeridian\": {\n",
    "        \"geo\": Point(179.87, 51.86),\n",
    "        \"mgrs_tile_ids\": [\"01UBT\"],\n",
    "        \"track_numbers\": None,\n",
    "    },\n",
    "    \"ilha_mexiana\": {\n",
    "        \"geo\": Point(49.75, 0),\n",
    "        \"mgrs_tile\": [\"22NFF\"],\n",
    "        \"track_numbers\": None,\n",
    "    },\n",
    "}\n",
    "\n",
    "DATA = CONFIG[SITE]\n",
    "DATA"
   ]
  },
  {
   "cell_type": "code",
   "execution_count": 4,
   "id": "050dafb6-7dec-48f1-a099-10ad026997a0",
   "metadata": {},
   "outputs": [
    {
     "ename": "NoMGRSCoverage",
     "evalue": "We only have MGRS tiles that overlap with DIST-HLS products (this is slightly less than Sentinel-2). ",
     "output_type": "error",
     "traceback": [
      "\u001b[0;31m---------------------------------------------------------------------------\u001b[0m",
      "\u001b[0;31mNoMGRSCoverage\u001b[0m                            Traceback (most recent call last)",
      "Cell \u001b[0;32mIn[4], line 3\u001b[0m\n\u001b[1;32m      1\u001b[0m geo \u001b[38;5;241m=\u001b[39m DATA[\u001b[38;5;124m\"\u001b[39m\u001b[38;5;124mgeo\u001b[39m\u001b[38;5;124m\"\u001b[39m]\n\u001b[1;32m      2\u001b[0m df_aoi \u001b[38;5;241m=\u001b[39m gpd\u001b[38;5;241m.\u001b[39mGeoDataFrame(geometry\u001b[38;5;241m=\u001b[39m[geo], crs\u001b[38;5;241m=\u001b[39mCRS\u001b[38;5;241m.\u001b[39mfrom_epsg(\u001b[38;5;241m4326\u001b[39m))\n\u001b[0;32m----> 3\u001b[0m df_mgrs_tiles \u001b[38;5;241m=\u001b[39m \u001b[43mget_mgrs_tiles_overlapping_geometry\u001b[49m\u001b[43m(\u001b[49m\u001b[43mgeo\u001b[49m\u001b[43m)\u001b[49m\n\u001b[1;32m      4\u001b[0m df_mgrs_tiles\u001b[38;5;241m.\u001b[39mhead()\n",
      "File \u001b[0;32m~/bekaert-team/dist-s1-enumerator/src/dist_s1_enumerator/mgrs_burst_data.py:114\u001b[0m, in \u001b[0;36mget_mgrs_tiles_overlapping_geometry\u001b[0;34m(geometry)\u001b[0m\n\u001b[1;32m    112\u001b[0m ind \u001b[38;5;241m=\u001b[39m df_mgrs\u001b[38;5;241m.\u001b[39mintersects(geometry)\n\u001b[1;32m    113\u001b[0m \u001b[38;5;28;01mif\u001b[39;00m \u001b[38;5;129;01mnot\u001b[39;00m ind\u001b[38;5;241m.\u001b[39many():\n\u001b[0;32m--> 114\u001b[0m     \u001b[38;5;28;01mraise\u001b[39;00m NoMGRSCoverage(\n\u001b[1;32m    115\u001b[0m         \u001b[38;5;124m'\u001b[39m\u001b[38;5;124mWe only have MGRS tiles that overlap with DIST-HLS products (this is slightly less than Sentinel-2). \u001b[39m\u001b[38;5;124m'\u001b[39m\n\u001b[1;32m    116\u001b[0m     )\n\u001b[1;32m    117\u001b[0m df_mgrs_overlapping \u001b[38;5;241m=\u001b[39m df_mgrs[ind]\u001b[38;5;241m.\u001b[39mreset_index(drop\u001b[38;5;241m=\u001b[39m\u001b[38;5;28;01mTrue\u001b[39;00m)\n\u001b[1;32m    118\u001b[0m mgrs_tile_schema\u001b[38;5;241m.\u001b[39mvalidate(df_mgrs_overlapping)\n",
      "\u001b[0;31mNoMGRSCoverage\u001b[0m: We only have MGRS tiles that overlap with DIST-HLS products (this is slightly less than Sentinel-2). "
     ]
    }
   ],
   "source": [
    "geo = DATA[\"geo\"]\n",
    "df_aoi = gpd.GeoDataFrame(geometry=[geo], crs=CRS.from_epsg(4326))\n",
    "df_mgrs_tiles = get_mgrs_tiles_overlapping_geometry(geo)\n",
    "df_mgrs_tiles.head()"
   ]
  },
  {
   "cell_type": "code",
   "execution_count": null,
   "id": "d7eaca61-17ee-44e4-936d-42e72ae330f4",
   "metadata": {},
   "outputs": [],
   "source": [
    "fig, ax = plt.subplots()\n",
    "df_mgrs_tiles_plot = df_mgrs_tiles.copy()\n",
    "df_mgrs_tiles_plot.geometry = df_mgrs_tiles_plot.geometry.boundary\n",
    "df_mgrs_tiles_plot.plot(\n",
    "    column=\"mgrs_tile_id\", categorical=True, legend=True, ax=ax\n",
    ")\n",
    "df_aoi.plot(ax=ax)\n",
    "ctx.add_basemap(\n",
    "    ax, crs=df_mgrs_tiles.crs.to_string(), source=ctx.providers.CartoDB.Voyager\n",
    ")\n",
    "if SITE == \"aleuatian_antimeridian\":\n",
    "    ax.set_xlim(178, 180)"
   ]
  },
  {
   "cell_type": "code",
   "execution_count": null,
   "id": "b4c60d09-6493-4027-af3a-a12537751dfd",
   "metadata": {},
   "outputs": [],
   "source": [
    "mgrs_tile_ids = DATA[\"mgrs_tile_ids\"]\n",
    "mgrs_tile_ids"
   ]
  },
  {
   "cell_type": "code",
   "execution_count": null,
   "id": "ab7d93ef-4602-4f89-a3fd-d82ea975cd76",
   "metadata": {},
   "outputs": [],
   "source": [
    "df_bursts = get_burst_table_from_mgrs_tiles(mgrs_tile_ids)\n",
    "df_bursts.head()"
   ]
  },
  {
   "cell_type": "code",
   "execution_count": null,
   "id": "20d39c9b-b30a-44d4-981d-f9bdffc89016",
   "metadata": {},
   "outputs": [],
   "source": [
    "fig, ax = plt.subplots()\n",
    "df_mgrs_tiles_plot = df_mgrs_tiles.copy()\n",
    "df_mgrs_tiles_plot.plot(\n",
    "    column=\"mgrs_tile_id\", categorical=True, ax=ax, alpha=0.2\n",
    ")\n",
    "df_aoi.plot(ax=ax)\n",
    "df_bursts_plot = df_bursts.copy()\n",
    "df_bursts_plot.geometry = df_bursts_plot.geometry.boundary\n",
    "df_bursts_plot.plot(column=\"track_number\", categorical=True, ax=ax, legend=True)\n",
    "leg = ax.get_legend()\n",
    "leg.set_title(\"Track Numbers\")\n",
    "ctx.add_basemap(\n",
    "    ax, crs=df_mgrs_tiles.crs.to_string(), source=ctx.providers.CartoDB.Voyager\n",
    ")\n",
    "if SITE == \"aleuatian_antimeridian\":\n",
    "    ax.set_xlim(178, 180)"
   ]
  },
  {
   "cell_type": "code",
   "execution_count": null,
   "id": "5b97e06a-645f-4079-ac87-6a71fec04467",
   "metadata": {},
   "outputs": [],
   "source": [
    "delta_window_days = 365\n",
    "delta_lookback_days = 0\n",
    "max_pre_imgs_per_burst = 10"
   ]
  },
  {
   "cell_type": "markdown",
   "id": "1041c9f2-58ac-4703-b11b-6f9228ffa935",
   "metadata": {},
   "source": [
    "# Example test"
   ]
  },
  {
   "cell_type": "code",
   "execution_count": null,
   "id": "8bafbb86-0876-4ea3-81ba-7f8a133811a2",
   "metadata": {},
   "outputs": [],
   "source": [
    "from dist_s1_enumerator.asf import get_rtc_s1_ts_metadata_from_mgrs_tiles\n",
    "from dist_s1_enumerator.dist_enum import (\n",
    "    enumerate_dist_s1_products,\n",
    "    enumerate_one_dist_s1_product,\n",
    ")"
   ]
  },
  {
   "cell_type": "code",
   "execution_count": null,
   "id": "c41b5e00-58b0-4205-9fd3-67a89b2b7fd8",
   "metadata": {},
   "outputs": [],
   "source": [
    "track_numbers = DATA[\"track_numbers\"]\n",
    "track_numbers"
   ]
  },
  {
   "cell_type": "code",
   "execution_count": null,
   "id": "4a0883f7-8839-4bc1-8ef7-6888c824206a",
   "metadata": {},
   "outputs": [],
   "source": [
    "df_ts = get_rtc_s1_ts_metadata_from_mgrs_tiles(\n",
    "    mgrs_tile_ids, track_numbers=track_numbers\n",
    ")\n",
    "df_ts.head()"
   ]
  },
  {
   "cell_type": "code",
   "execution_count": null,
   "id": "665533fc-2927-4bb8-8566-c9571789a274",
   "metadata": {},
   "outputs": [],
   "source": [
    "df_ts.track_number.unique()"
   ]
  },
  {
   "cell_type": "code",
   "execution_count": null,
   "id": "307f6c2b-b2e1-4535-879d-c26ff2759dc9",
   "metadata": {},
   "outputs": [],
   "source": [
    "data_dir = Path(\"rtc_s1_ts_metadata\")\n",
    "data_dir.mkdir(exist_ok=True, parents=True)\n",
    "\n",
    "mgrs_tile_token = \"_\".join(mgrs_tile_ids)\n",
    "file_name = f\"mgrs{mgrs_tile_token}.parquet\"\n",
    "if track_numbers is not None:\n",
    "    track_token = \"_\".join(list(map(str, track_numbers)))\n",
    "    file_name = file_name.replace(\".parquet\", f\"__track{track_token}.parquet\")\n",
    "df_ts.to_parquet(data_dir / file_name)"
   ]
  },
  {
   "cell_type": "code",
   "execution_count": null,
   "id": "8963b77c-42ff-493d-93c1-10e7a7529855",
   "metadata": {},
   "outputs": [],
   "source": [
    "df_products = enumerate_dist_s1_products(df_ts, mgrs_tile_ids)\n",
    "df_products.head()"
   ]
  },
  {
   "cell_type": "code",
   "execution_count": null,
   "id": "dd661797-bebf-4589-baff-4c4a87173561",
   "metadata": {},
   "outputs": [],
   "source": [
    "df_post = df_products[df_products.input_category == \"post\"].reset_index(\n",
    "    drop=True\n",
    ")\n",
    "df_tmp = (\n",
    "    df_post[\n",
    "        [\n",
    "            \"product_id\",\n",
    "            \"acq_date_for_mgrs_pass\",\n",
    "            \"track_number\",\n",
    "            \"mgrs_tile_id\",\n",
    "            \"track_token\",\n",
    "        ]\n",
    "    ]\n",
    "    .drop_duplicates(subset=\"product_id\")\n",
    "    .sort_values(by=\"acq_date_for_mgrs_pass\")\n",
    ")\n",
    "mgrs_tile_ids_post = df_tmp[\"mgrs_tile_id\"].tolist()\n",
    "product_ids = df_tmp[\"product_id\"].tolist()\n",
    "post_dates = df_tmp[\"acq_date_for_mgrs_pass\"].tolist()\n",
    "track_tokens_post = df_tmp[\"track_token\"].tolist()\n",
    "track_numbers_post_lst = [\n",
    "    [int(track) for track in token.split(\"_\")] for token in track_tokens_post\n",
    "]"
   ]
  },
  {
   "cell_type": "code",
   "execution_count": null,
   "id": "9422bace-a9be-4bcc-a778-50990595c27c",
   "metadata": {},
   "outputs": [],
   "source": [
    "for mgrs_tile_id_post, product_id, track_numbers_post, post_date in tqdm(\n",
    "    zip(mgrs_tile_ids_post, product_ids, track_numbers_post_lst, post_dates),\n",
    "    total=len(post_dates),\n",
    "):\n",
    "    df_one_product = enumerate_one_dist_s1_product(\n",
    "        mgrs_tile_id_post,\n",
    "        track_number=track_numbers_post,\n",
    "        post_date=pd.Timestamp(post_date),\n",
    "    )\n",
    "    df_one_product_alt = (\n",
    "        df_products[df_products.product_id == product_id]\n",
    "        .reset_index(drop=True)\n",
    "        .drop(columns=\"product_id\")\n",
    "    )\n",
    "    df_pre_alt = df_one_product_alt[\n",
    "        df_one_product_alt.input_category == \"pre\"\n",
    "    ].reset_index(drop=True)\n",
    "    df_post_alt = df_one_product_alt[\n",
    "        df_one_product_alt.input_category == \"post\"\n",
    "    ].reset_index(drop=True)\n",
    "\n",
    "    df_pre = df_one_product[df_one_product.input_category == \"pre\"].reset_index(\n",
    "        drop=True\n",
    "    )\n",
    "    df_post = df_one_product[\n",
    "        df_one_product.input_category == \"post\"\n",
    "    ].reset_index(drop=True)\n",
    "\n",
    "    assert_frame_equal(df_pre, df_pre_alt, atol=1e-7)\n",
    "    assert_frame_equal(df_post, df_post, atol=1e-7)\n",
    "    break"
   ]
  }
 ],
 "metadata": {
  "kernelspec": {
   "display_name": "dist-s1-enumerator",
   "language": "python",
   "name": "dist-s1-enumerator"
  },
  "language_info": {
   "codemirror_mode": {
    "name": "ipython",
    "version": 3
   },
   "file_extension": ".py",
   "mimetype": "text/x-python",
   "name": "python",
   "nbconvert_exporter": "python",
   "pygments_lexer": "ipython3",
   "version": "3.12.8"
  }
 },
 "nbformat": 4,
 "nbformat_minor": 5
}
